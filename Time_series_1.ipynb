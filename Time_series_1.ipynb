{
  "nbformat": 4,
  "nbformat_minor": 0,
  "metadata": {
    "colab": {
      "name": "Time series 1",
      "provenance": [],
      "collapsed_sections": [],
      "include_colab_link": true
    },
    "kernelspec": {
      "name": "python3",
      "display_name": "Python 3"
    }
  },
  "cells": [
    {
      "cell_type": "markdown",
      "metadata": {
        "id": "view-in-github",
        "colab_type": "text"
      },
      "source": [
        "<a href=\"https://colab.research.google.com/github/PriyankaVerma98/Neural_networks_TensorFlow/blob/master/Time_series_1.ipynb\" target=\"_parent\"><img src=\"https://colab.research.google.com/assets/colab-badge.svg\" alt=\"Open In Colab\"/></a>"
      ]
    },
    {
      "cell_type": "code",
      "metadata": {
        "id": "1_E6UPZ-uWbT",
        "colab_type": "code",
        "outputId": "c90e57e1-84de-4fad-f68f-a77d8161d7bb",
        "colab": {
          "base_uri": "https://localhost:8080/",
          "height": 34
        }
      },
      "source": [
        "from google.colab import drive\n",
        "drive.mount('/content/drive/')"
      ],
      "execution_count": 0,
      "outputs": [
        {
          "output_type": "stream",
          "text": [
            "Drive already mounted at /content/drive/; to attempt to forcibly remount, call drive.mount(\"/content/drive/\", force_remount=True).\n"
          ],
          "name": "stdout"
        }
      ]
    },
    {
      "cell_type": "code",
      "metadata": {
        "id": "uxZyFg9ywDOo",
        "colab_type": "code",
        "outputId": "b2604495-fdd5-40e9-9055-5001af95f68e",
        "colab": {
          "base_uri": "https://localhost:8080/",
          "height": 34
        }
      },
      "source": [
        "link = 'https://drive.google.com/open?id=1fANFUiToJV162LN3LZeYkuOawcolw0iQ'\n",
        "fluff, id = link.split('=')\n",
        "print (id)"
      ],
      "execution_count": 0,
      "outputs": [
        {
          "output_type": "stream",
          "text": [
            "1fANFUiToJV162LN3LZeYkuOawcolw0iQ\n"
          ],
          "name": "stdout"
        }
      ]
    },
    {
      "cell_type": "code",
      "metadata": {
        "id": "oKbjd1v8xZX0",
        "colab_type": "code",
        "colab": {}
      },
      "source": [
        "!pip install -U -q PyDrive\n",
        "from pydrive.auth import GoogleAuth\n",
        "from pydrive.drive import GoogleDrive\n",
        "from google.colab import auth\n",
        "from oauth2client.client import GoogleCredentials"
      ],
      "execution_count": 0,
      "outputs": []
    },
    {
      "cell_type": "code",
      "metadata": {
        "id": "-e4RShCxxVQg",
        "colab_type": "code",
        "colab": {}
      },
      "source": [
        "auth.authenticate_user()\n",
        "gauth = GoogleAuth()\n",
        "gauth.credentials = GoogleCredentials.get_application_default()\n",
        "drive = GoogleDrive(gauth)"
      ],
      "execution_count": 0,
      "outputs": []
    },
    {
      "cell_type": "code",
      "metadata": {
        "id": "Kp5QMPziyLft",
        "colab_type": "code",
        "colab": {}
      },
      "source": [
        "import pandas as pd\n"
      ],
      "execution_count": 0,
      "outputs": []
    },
    {
      "cell_type": "code",
      "metadata": {
        "id": "RLVioyeEwEJ8",
        "colab_type": "code",
        "colab": {}
      },
      "source": [
        "downloaded = drive.CreateFile({'id':id}) \n",
        "downloaded.GetContentFile('Cleaned_Data2017-18.csv')  \n",
        "df2 = pd.read_csv('Cleaned_Data2017-18.csv')"
      ],
      "execution_count": 0,
      "outputs": []
    },
    {
      "cell_type": "code",
      "metadata": {
        "id": "fXVlmuwz0663",
        "colab_type": "code",
        "colab": {}
      },
      "source": [
        "downloaded2 = drive.CreateFile({'id':id}) \n",
        "downloaded2.GetContentFile('Cleaned_Data2016-17.csv')  \n",
        "df1 = pd.read_csv('Cleaned_Data2016-17.csv')"
      ],
      "execution_count": 0,
      "outputs": []
    },
    {
      "cell_type": "code",
      "metadata": {
        "id": "ku_8kB83yO1T",
        "colab_type": "code",
        "outputId": "5b23189f-afa8-41cf-810d-f1d6b088e40b",
        "colab": {
          "base_uri": "https://localhost:8080/",
          "height": 428
        }
      },
      "source": [
        "df1.head(5)"
      ],
      "execution_count": 47,
      "outputs": [
        {
          "output_type": "execute_result",
          "data": {
            "text/html": [
              "<div>\n",
              "<style scoped>\n",
              "    .dataframe tbody tr th:only-of-type {\n",
              "        vertical-align: middle;\n",
              "    }\n",
              "\n",
              "    .dataframe tbody tr th {\n",
              "        vertical-align: top;\n",
              "    }\n",
              "\n",
              "    .dataframe thead th {\n",
              "        text-align: right;\n",
              "    }\n",
              "</style>\n",
              "<table border=\"1\" class=\"dataframe\">\n",
              "  <thead>\n",
              "    <tr style=\"text-align: right;\">\n",
              "      <th></th>\n",
              "      <th>Unnamed: 0</th>\n",
              "      <th>Commodity</th>\n",
              "      <th>Report Date</th>\n",
              "      <th>State</th>\n",
              "      <th>Market Center</th>\n",
              "      <th>Arrivals(in tonnes)</th>\n",
              "      <th>Unit of Arrivals</th>\n",
              "      <th>Origin</th>\n",
              "      <th>Variety</th>\n",
              "      <th>Minimum Prices(in Rs/quintals)</th>\n",
              "      <th>Maximum Prices(in Rs/quintals)</th>\n",
              "      <th>Modal Prices(in Rs/quintals)</th>\n",
              "      <th>Unit of Price</th>\n",
              "      <th>Arrival_Tonnes_Calc</th>\n",
              "      <th>count</th>\n",
              "      <th>Arrival_per_Varitey_Tonnes</th>\n",
              "      <th>Arrival_Quintals_Variety</th>\n",
              "      <th>Crop_code</th>\n",
              "      <th>Commodity Type</th>\n",
              "      <th>Common_Commodity_Name</th>\n",
              "      <th>New_District</th>\n",
              "      <th>District_Code</th>\n",
              "      <th>Commom_District_Name</th>\n",
              "    </tr>\n",
              "  </thead>\n",
              "  <tbody>\n",
              "    <tr>\n",
              "      <th>0</th>\n",
              "      <td>0</td>\n",
              "      <td>Paddy-Dhan-Common</td>\n",
              "      <td>20170401</td>\n",
              "      <td>Andhra Pradesh</td>\n",
              "      <td>Bobbili</td>\n",
              "      <td>0.1</td>\n",
              "      <td>Tonnes</td>\n",
              "      <td>NR</td>\n",
              "      <td>1001</td>\n",
              "      <td>1470.0</td>\n",
              "      <td>1500.0</td>\n",
              "      <td>1490.0</td>\n",
              "      <td>Rs/Quintal</td>\n",
              "      <td>0.1</td>\n",
              "      <td>1</td>\n",
              "      <td>0.1</td>\n",
              "      <td>1.0</td>\n",
              "      <td>101</td>\n",
              "      <td>Cereals</td>\n",
              "      <td>Paddy(Dhan)</td>\n",
              "      <td>Adilabad</td>\n",
              "      <td>532</td>\n",
              "      <td>Adilabad</td>\n",
              "    </tr>\n",
              "    <tr>\n",
              "      <th>1</th>\n",
              "      <td>1</td>\n",
              "      <td>Paddy-Dhan-Common</td>\n",
              "      <td>20170402</td>\n",
              "      <td>Andhra Pradesh</td>\n",
              "      <td>Bobbili</td>\n",
              "      <td>0.1</td>\n",
              "      <td>Tonnes</td>\n",
              "      <td>NR</td>\n",
              "      <td>1001</td>\n",
              "      <td>1470.0</td>\n",
              "      <td>1490.0</td>\n",
              "      <td>1480.0</td>\n",
              "      <td>Rs/Quintal</td>\n",
              "      <td>0.1</td>\n",
              "      <td>1</td>\n",
              "      <td>0.1</td>\n",
              "      <td>1.0</td>\n",
              "      <td>101</td>\n",
              "      <td>Cereals</td>\n",
              "      <td>Paddy(Dhan)</td>\n",
              "      <td>Adilabad</td>\n",
              "      <td>532</td>\n",
              "      <td>Adilabad</td>\n",
              "    </tr>\n",
              "    <tr>\n",
              "      <th>2</th>\n",
              "      <td>2</td>\n",
              "      <td>Paddy-Dhan-Common</td>\n",
              "      <td>20170403</td>\n",
              "      <td>Andhra Pradesh</td>\n",
              "      <td>Bobbili</td>\n",
              "      <td>0.1</td>\n",
              "      <td>Tonnes</td>\n",
              "      <td>NR</td>\n",
              "      <td>1001</td>\n",
              "      <td>1470.0</td>\n",
              "      <td>1490.0</td>\n",
              "      <td>1480.0</td>\n",
              "      <td>Rs/Quintal</td>\n",
              "      <td>0.1</td>\n",
              "      <td>1</td>\n",
              "      <td>0.1</td>\n",
              "      <td>1.0</td>\n",
              "      <td>101</td>\n",
              "      <td>Cereals</td>\n",
              "      <td>Paddy(Dhan)</td>\n",
              "      <td>Adilabad</td>\n",
              "      <td>532</td>\n",
              "      <td>Adilabad</td>\n",
              "    </tr>\n",
              "    <tr>\n",
              "      <th>3</th>\n",
              "      <td>3</td>\n",
              "      <td>Paddy-Dhan-Common</td>\n",
              "      <td>20170404</td>\n",
              "      <td>Andhra Pradesh</td>\n",
              "      <td>Bobbili</td>\n",
              "      <td>NR</td>\n",
              "      <td>Tonnes</td>\n",
              "      <td>NR</td>\n",
              "      <td>1001</td>\n",
              "      <td>1470.0</td>\n",
              "      <td>1490.0</td>\n",
              "      <td>1480.0</td>\n",
              "      <td>Rs/Quintal</td>\n",
              "      <td>NaN</td>\n",
              "      <td>1</td>\n",
              "      <td>NaN</td>\n",
              "      <td>NaN</td>\n",
              "      <td>101</td>\n",
              "      <td>Cereals</td>\n",
              "      <td>Paddy(Dhan)</td>\n",
              "      <td>Adilabad</td>\n",
              "      <td>532</td>\n",
              "      <td>Adilabad</td>\n",
              "    </tr>\n",
              "    <tr>\n",
              "      <th>4</th>\n",
              "      <td>4</td>\n",
              "      <td>Paddy-Dhan-Common</td>\n",
              "      <td>20170405</td>\n",
              "      <td>Andhra Pradesh</td>\n",
              "      <td>Bobbili</td>\n",
              "      <td>31.4</td>\n",
              "      <td>Tonnes</td>\n",
              "      <td>NR</td>\n",
              "      <td>B P T</td>\n",
              "      <td>1511.0</td>\n",
              "      <td>1540.0</td>\n",
              "      <td>1530.0</td>\n",
              "      <td>Rs/Quintal</td>\n",
              "      <td>31.4</td>\n",
              "      <td>1</td>\n",
              "      <td>31.4</td>\n",
              "      <td>314.0</td>\n",
              "      <td>101</td>\n",
              "      <td>Cereals</td>\n",
              "      <td>Paddy(Dhan)</td>\n",
              "      <td>Adilabad</td>\n",
              "      <td>532</td>\n",
              "      <td>Adilabad</td>\n",
              "    </tr>\n",
              "  </tbody>\n",
              "</table>\n",
              "</div>"
            ],
            "text/plain": [
              "   Unnamed: 0          Commodity  ...  District_Code Commom_District_Name\n",
              "0           0  Paddy-Dhan-Common  ...            532             Adilabad\n",
              "1           1  Paddy-Dhan-Common  ...            532             Adilabad\n",
              "2           2  Paddy-Dhan-Common  ...            532             Adilabad\n",
              "3           3  Paddy-Dhan-Common  ...            532             Adilabad\n",
              "4           4  Paddy-Dhan-Common  ...            532             Adilabad\n",
              "\n",
              "[5 rows x 23 columns]"
            ]
          },
          "metadata": {
            "tags": []
          },
          "execution_count": 47
        }
      ]
    },
    {
      "cell_type": "code",
      "metadata": {
        "id": "ZDJYD_ZW142h",
        "colab_type": "code",
        "colab": {}
      },
      "source": [
        "df1.dropna(subset=['Modal Prices(in Rs/quintals)'],inplace=True)"
      ],
      "execution_count": 0,
      "outputs": []
    },
    {
      "cell_type": "code",
      "metadata": {
        "id": "vf65_SpU2pn5",
        "colab_type": "code",
        "colab": {}
      },
      "source": [
        "df2.dropna(subset=['Modal Prices(in Rs/quintals)'],inplace=True)"
      ],
      "execution_count": 0,
      "outputs": []
    },
    {
      "cell_type": "code",
      "metadata": {
        "id": "nKkVaW3R2r3-",
        "colab_type": "code",
        "colab": {}
      },
      "source": [
        "from scipy import stats\n",
        "from statsmodels.tsa.stattools import adfuller\n",
        "from sklearn import preprocessing\n",
        "from statsmodels.tsa.stattools import pacf\n",
        "%matplotlib inline\n",
        "import math\n",
        "import keras\n",
        "from keras.models import Sequential\n",
        "from keras.layers import Dense\n",
        "from keras.layers import LSTM\n",
        "from keras.layers import Dropout\n",
        "from keras.layers import *\n",
        "from sklearn.preprocessing import MinMaxScaler\n",
        "from sklearn.metrics import mean_squared_error\n",
        "from sklearn.metrics import mean_absolute_error\n",
        "from keras.callbacks import EarlyStopping\n"
      ],
      "execution_count": 0,
      "outputs": []
    },
    {
      "cell_type": "code",
      "metadata": {
        "id": "f2ntATX4wrYL",
        "colab_type": "code",
        "colab": {}
      },
      "source": [
        "import numpy as np\n",
        "import matplotlib.pyplot as plt"
      ],
      "execution_count": 0,
      "outputs": []
    },
    {
      "cell_type": "code",
      "metadata": {
        "id": "r-PNrlji1Ro2",
        "colab_type": "code",
        "colab": {}
      },
      "source": [
        "df1['date'] = pd.to_datetime(df1['Report Date'].astype('str'), yearfirst= True )\n",
        "# pd.to_datetime(yearfirst=True,   )"
      ],
      "execution_count": 0,
      "outputs": []
    },
    {
      "cell_type": "code",
      "metadata": {
        "id": "uP7LwCTA66mZ",
        "colab_type": "code",
        "colab": {}
      },
      "source": [
        "df2['date'] = pd.to_datetime(df2['Report Date'].astype('str'), yearfirst= True )\n"
      ],
      "execution_count": 0,
      "outputs": []
    },
    {
      "cell_type": "code",
      "metadata": {
        "id": "4w3ZtQVU1oZJ",
        "colab_type": "code",
        "colab": {}
      },
      "source": [
        "df1a = df1[['Unnamed: 0', 'date', 'Commodity', 'State', 'Market Center', 'Modal Prices(in Rs/quintals)', 'Arrival_Tonnes_Calc']]\n",
        "df2a = df2[['Unnamed: 0', 'date', 'Commodity', 'State', 'Market Center', 'Modal Prices(in Rs/quintals)', 'Arrival_Tonnes_Calc']]"
      ],
      "execution_count": 0,
      "outputs": []
    },
    {
      "cell_type": "code",
      "metadata": {
        "id": "D6ze1FsH1oQS",
        "colab_type": "code",
        "outputId": "eddb7bf5-d1e9-4298-b4d7-59136e47a2ac",
        "colab": {
          "base_uri": "https://localhost:8080/",
          "height": 204
        }
      },
      "source": [
        "df1a.head()"
      ],
      "execution_count": 55,
      "outputs": [
        {
          "output_type": "execute_result",
          "data": {
            "text/html": [
              "<div>\n",
              "<style scoped>\n",
              "    .dataframe tbody tr th:only-of-type {\n",
              "        vertical-align: middle;\n",
              "    }\n",
              "\n",
              "    .dataframe tbody tr th {\n",
              "        vertical-align: top;\n",
              "    }\n",
              "\n",
              "    .dataframe thead th {\n",
              "        text-align: right;\n",
              "    }\n",
              "</style>\n",
              "<table border=\"1\" class=\"dataframe\">\n",
              "  <thead>\n",
              "    <tr style=\"text-align: right;\">\n",
              "      <th></th>\n",
              "      <th>Unnamed: 0</th>\n",
              "      <th>date</th>\n",
              "      <th>Commodity</th>\n",
              "      <th>State</th>\n",
              "      <th>Market Center</th>\n",
              "      <th>Modal Prices(in Rs/quintals)</th>\n",
              "      <th>Arrival_Tonnes_Calc</th>\n",
              "    </tr>\n",
              "  </thead>\n",
              "  <tbody>\n",
              "    <tr>\n",
              "      <th>0</th>\n",
              "      <td>0</td>\n",
              "      <td>2017-04-01</td>\n",
              "      <td>Paddy-Dhan-Common</td>\n",
              "      <td>Andhra Pradesh</td>\n",
              "      <td>Bobbili</td>\n",
              "      <td>1490.0</td>\n",
              "      <td>0.1</td>\n",
              "    </tr>\n",
              "    <tr>\n",
              "      <th>1</th>\n",
              "      <td>1</td>\n",
              "      <td>2017-04-02</td>\n",
              "      <td>Paddy-Dhan-Common</td>\n",
              "      <td>Andhra Pradesh</td>\n",
              "      <td>Bobbili</td>\n",
              "      <td>1480.0</td>\n",
              "      <td>0.1</td>\n",
              "    </tr>\n",
              "    <tr>\n",
              "      <th>2</th>\n",
              "      <td>2</td>\n",
              "      <td>2017-04-03</td>\n",
              "      <td>Paddy-Dhan-Common</td>\n",
              "      <td>Andhra Pradesh</td>\n",
              "      <td>Bobbili</td>\n",
              "      <td>1480.0</td>\n",
              "      <td>0.1</td>\n",
              "    </tr>\n",
              "    <tr>\n",
              "      <th>3</th>\n",
              "      <td>3</td>\n",
              "      <td>2017-04-04</td>\n",
              "      <td>Paddy-Dhan-Common</td>\n",
              "      <td>Andhra Pradesh</td>\n",
              "      <td>Bobbili</td>\n",
              "      <td>1480.0</td>\n",
              "      <td>NaN</td>\n",
              "    </tr>\n",
              "    <tr>\n",
              "      <th>4</th>\n",
              "      <td>4</td>\n",
              "      <td>2017-04-05</td>\n",
              "      <td>Paddy-Dhan-Common</td>\n",
              "      <td>Andhra Pradesh</td>\n",
              "      <td>Bobbili</td>\n",
              "      <td>1530.0</td>\n",
              "      <td>31.4</td>\n",
              "    </tr>\n",
              "  </tbody>\n",
              "</table>\n",
              "</div>"
            ],
            "text/plain": [
              "   Unnamed: 0       date  ... Modal Prices(in Rs/quintals) Arrival_Tonnes_Calc\n",
              "0           0 2017-04-01  ...                       1490.0                 0.1\n",
              "1           1 2017-04-02  ...                       1480.0                 0.1\n",
              "2           2 2017-04-03  ...                       1480.0                 0.1\n",
              "3           3 2017-04-04  ...                       1480.0                 NaN\n",
              "4           4 2017-04-05  ...                       1530.0                31.4\n",
              "\n",
              "[5 rows x 7 columns]"
            ]
          },
          "metadata": {
            "tags": []
          },
          "execution_count": 55
        }
      ]
    },
    {
      "cell_type": "code",
      "metadata": {
        "id": "WSH1-o7cr-Su",
        "colab_type": "code",
        "colab": {}
      },
      "source": [
        "df1b= df1a[df1a[\"Commodity\"]== 'Onion']"
      ],
      "execution_count": 0,
      "outputs": []
    },
    {
      "cell_type": "code",
      "metadata": {
        "id": "xd_Ver-48vje",
        "colab_type": "code",
        "colab": {
          "base_uri": "https://localhost:8080/",
          "height": 204
        },
        "outputId": "52265efe-738d-4484-c1b8-d605df1a66b4"
      },
      "source": [
        "df1b.head()"
      ],
      "execution_count": 72,
      "outputs": [
        {
          "output_type": "execute_result",
          "data": {
            "text/html": [
              "<div>\n",
              "<style scoped>\n",
              "    .dataframe tbody tr th:only-of-type {\n",
              "        vertical-align: middle;\n",
              "    }\n",
              "\n",
              "    .dataframe tbody tr th {\n",
              "        vertical-align: top;\n",
              "    }\n",
              "\n",
              "    .dataframe thead th {\n",
              "        text-align: right;\n",
              "    }\n",
              "</style>\n",
              "<table border=\"1\" class=\"dataframe\">\n",
              "  <thead>\n",
              "    <tr style=\"text-align: right;\">\n",
              "      <th></th>\n",
              "      <th>Unnamed: 0</th>\n",
              "      <th>date</th>\n",
              "      <th>Commodity</th>\n",
              "      <th>State</th>\n",
              "      <th>Market Center</th>\n",
              "      <th>Modal Prices(in Rs/quintals)</th>\n",
              "      <th>Arrival_Tonnes_Calc</th>\n",
              "    </tr>\n",
              "  </thead>\n",
              "  <tbody>\n",
              "    <tr>\n",
              "      <th>6108</th>\n",
              "      <td>6108</td>\n",
              "      <td>2017-11-02</td>\n",
              "      <td>Onion</td>\n",
              "      <td>Andhra Pradesh</td>\n",
              "      <td>Ichapuram</td>\n",
              "      <td>1400.0</td>\n",
              "      <td>16.0</td>\n",
              "    </tr>\n",
              "    <tr>\n",
              "      <th>6109</th>\n",
              "      <td>6109</td>\n",
              "      <td>2017-11-05</td>\n",
              "      <td>Onion</td>\n",
              "      <td>Andhra Pradesh</td>\n",
              "      <td>Ichapuram</td>\n",
              "      <td>1400.0</td>\n",
              "      <td>16.0</td>\n",
              "    </tr>\n",
              "    <tr>\n",
              "      <th>6110</th>\n",
              "      <td>6110</td>\n",
              "      <td>2017-11-07</td>\n",
              "      <td>Onion</td>\n",
              "      <td>Andhra Pradesh</td>\n",
              "      <td>Ichapuram</td>\n",
              "      <td>1400.0</td>\n",
              "      <td>16.0</td>\n",
              "    </tr>\n",
              "    <tr>\n",
              "      <th>6111</th>\n",
              "      <td>6111</td>\n",
              "      <td>2017-11-08</td>\n",
              "      <td>Onion</td>\n",
              "      <td>Andhra Pradesh</td>\n",
              "      <td>Ichapuram</td>\n",
              "      <td>1400.0</td>\n",
              "      <td>16.0</td>\n",
              "    </tr>\n",
              "    <tr>\n",
              "      <th>6112</th>\n",
              "      <td>6112</td>\n",
              "      <td>2017-10-17</td>\n",
              "      <td>Onion</td>\n",
              "      <td>Andhra Pradesh</td>\n",
              "      <td>Ichapuram</td>\n",
              "      <td>1000.0</td>\n",
              "      <td>16.0</td>\n",
              "    </tr>\n",
              "  </tbody>\n",
              "</table>\n",
              "</div>"
            ],
            "text/plain": [
              "      Unnamed: 0       date  ... Modal Prices(in Rs/quintals) Arrival_Tonnes_Calc\n",
              "6108        6108 2017-11-02  ...                       1400.0                16.0\n",
              "6109        6109 2017-11-05  ...                       1400.0                16.0\n",
              "6110        6110 2017-11-07  ...                       1400.0                16.0\n",
              "6111        6111 2017-11-08  ...                       1400.0                16.0\n",
              "6112        6112 2017-10-17  ...                       1000.0                16.0\n",
              "\n",
              "[5 rows x 7 columns]"
            ]
          },
          "metadata": {
            "tags": []
          },
          "execution_count": 72
        }
      ]
    },
    {
      "cell_type": "markdown",
      "metadata": {
        "id": "t4PqrhzY0Ud9",
        "colab_type": "text"
      },
      "source": [
        "**Statistical** **Normality** **Test**\n"
      ]
    },
    {
      "cell_type": "code",
      "metadata": {
        "id": "mP4OSuVU0BOi",
        "colab_type": "code",
        "outputId": "ab7c6748-7d0d-429c-a1d5-5b4d5aad51c6",
        "colab": {
          "base_uri": "https://localhost:8080/",
          "height": 51
        }
      },
      "source": [
        "stat, p = stats.normaltest(df1b[\"Modal Prices(in Rs/quintals)\"] )\n",
        "print('Statistics=%.3f, p=%.3f' % (stat, p))\n",
        "alpha = 0.05\n",
        "if p > alpha:\n",
        "    print('Data looks Gaussian (fail to reject H0)')\n",
        "else:\n",
        "    print('Data does not look Gaussian (reject H0)')"
      ],
      "execution_count": 57,
      "outputs": [
        {
          "output_type": "stream",
          "text": [
            "Statistics=79783.258, p=0.000\n",
            "Data does not look Gaussian (reject H0)\n"
          ],
          "name": "stdout"
        }
      ]
    },
    {
      "cell_type": "code",
      "metadata": {
        "id": "jf48n0Iu04t1",
        "colab_type": "code",
        "colab": {}
      },
      "source": [
        "import seaborn as sns"
      ],
      "execution_count": 0,
      "outputs": []
    },
    {
      "cell_type": "code",
      "metadata": {
        "id": "vf6WVS410rrl",
        "colab_type": "code",
        "colab": {
          "base_uri": "https://localhost:8080/",
          "height": 315
        },
        "outputId": "5c1069b3-70e5-47f4-ff07-a21c371d8be3"
      },
      "source": [
        "sns.distplot(df1b[\"Modal Prices(in Rs/quintals)\"]);\n",
        "print( 'Kurtosis of normal distribution: {}'.format(stats.kurtosis(df1b[\"Modal Prices(in Rs/quintals)\"])))\n",
        "print( 'Skewness of normal distribution: {}'.format(stats.skew(df1b[\"Modal Prices(in Rs/quintals)\"])))"
      ],
      "execution_count": 62,
      "outputs": [
        {
          "output_type": "stream",
          "text": [
            "Kurtosis of normal distribution: 8.620618091612767\n",
            "Skewness of normal distribution: 2.118286546370733\n"
          ],
          "name": "stdout"
        },
        {
          "output_type": "display_data",
          "data": {
            "image/png": "[encoded data removed]",
            "text/plain": [
              "<Figure size 432x288 with 1 Axes>"
            ]
          },
          "metadata": {
            "tags": []
          }
        }
      ]
    },
    {
      "cell_type": "markdown",
      "metadata": {
        "id": "_mvyox_5t0jw",
        "colab_type": "text"
      },
      "source": [
        "Parametric statistical methods assume that the data has a known and specific distribution, often a Gaussian distribution. If a data sample is not Gaussian, then the assumptions of parametric statistical tests are violated and nonparametric statistical methods must be used."
      ]
    },
    {
      "cell_type": "markdown",
      "metadata": {
        "id": "iILSs7fO51ih",
        "colab_type": "text"
      },
      "source": [
        "# **LSTM** recurrent neural network to predict the last value of a sequence of values."
      ]
    },
    {
      "cell_type": "code",
      "metadata": {
        "id": "X-NNMqtw5YAn",
        "colab_type": "code",
        "colab": {}
      },
      "source": [
        "dataset = df1b[\"Modal Prices(in Rs/quintals)\"].values #numpy.ndarray\n",
        "dataset = dataset.astype('float32')\n",
        "dataset = np.reshape(dataset, (-1, 1))\n",
        "scaler = MinMaxScaler(feature_range=(0, 1))\n",
        "dataset = scaler.fit_transform(dataset)\n"
      ],
      "execution_count": 0,
      "outputs": []
    },
    {
      "cell_type": "code",
      "metadata": {
        "id": "TW3OXnR75dE7",
        "colab_type": "code",
        "colab": {}
      },
      "source": [
        "train_size = int(len(dataset) * 0.80)\n",
        "test_size = len(dataset) - train_size\n",
        "train, test = dataset[0:train_size,:], dataset[train_size:len(dataset),:]"
      ],
      "execution_count": 0,
      "outputs": []
    },
    {
      "cell_type": "code",
      "metadata": {
        "id": "fDC_THji5yHM",
        "colab_type": "code",
        "colab": {}
      },
      "source": [
        "def create_dataset(dataset, look_back=1):\n",
        "    X, Y = [], []\n",
        "    for i in range(len(dataset)-look_back-1):\n",
        "        a = dataset[i:(i+look_back), 0]\n",
        "        X.append(a)\n",
        "        Y.append(dataset[i + look_back, 0])\n",
        "    return np.array(X), np.array(Y)\n",
        "    "
      ],
      "execution_count": 0,
      "outputs": []
    },
    {
      "cell_type": "code",
      "metadata": {
        "id": "kpSqP-svxPPP",
        "colab_type": "code",
        "colab": {}
      },
      "source": [
        "look_back = 30\n",
        "X_train, Y_train = create_dataset(train, look_back)\n",
        "X_test, Y_test = create_dataset(test, look_back)\n",
        "\n",
        "# reshape input to be [samples, time steps, features]\n",
        "X_train = np.reshape(X_train, (X_train.shape[0], 1, X_train.shape[1]))\n",
        "X_test = np.reshape(X_test, (X_test.shape[0], 1, X_test.shape[1]))"
      ],
      "execution_count": 0,
      "outputs": []
    },
    {
      "cell_type": "code",
      "metadata": {
        "id": "Q8G1WbM05-rB",
        "colab_type": "code",
        "colab": {
          "base_uri": "https://localhost:8080/"
        },
        "outputId": "7a6b2684-5d1d-478c-e1d8-8972edffed88"
      },
      "source": [
        "model = Sequential()\n",
        "model.add(LSTM(100, input_shape=(X_train.shape[1], X_train.shape[2])))\n",
        "model.add(Dropout(0.4))\n",
        "model.add(Dense(1))\n",
        "model.compile(loss='mean_squared_error', optimizer='adam')\n",
        "\n",
        "history = model.fit(X_train, Y_train, epochs=20, batch_size=70, validation_data=(X_test, Y_test), \n",
        "                    callbacks=[EarlyStopping(monitor='val_loss', patience=10)], verbose=1, shuffle=False)\n",
        "\n",
        "model.summary()"
      ],
      "execution_count": 79,
      "outputs": [
        {
          "output_type": "stream",
          "text": [
            "Train on 134811 samples, validate on 33680 samples\n",
            "Epoch 1/20\n",
            "134811/134811 [==============================] - 8s 63us/step - loss: 0.0025 - val_loss: 9.7768e-04\n",
            "Epoch 2/20\n",
            "134811/134811 [==============================] - 8s 60us/step - loss: 0.0020 - val_loss: 9.5324e-04\n",
            "Epoch 3/20\n",
            "134811/134811 [==============================] - 8s 57us/step - loss: 0.0020 - val_loss: 9.4128e-04\n",
            "Epoch 4/20\n",
            "134811/134811 [==============================] - 8s 58us/step - loss: 0.0019 - val_loss: 9.4109e-04\n",
            "Epoch 5/20\n",
            "134811/134811 [==============================] - 8s 60us/step - loss: 0.0018 - val_loss: 9.2048e-04\n",
            "Epoch 6/20\n",
            "134811/134811 [==============================] - 8s 56us/step - loss: 0.0018 - val_loss: 9.0102e-04\n",
            "Epoch 7/20\n",
            "134811/134811 [==============================] - 8s 57us/step - loss: 0.0017 - val_loss: 9.1234e-04\n",
            "Epoch 8/20\n",
            "134811/134811 [==============================] - 8s 59us/step - loss: 0.0017 - val_loss: 8.8770e-04\n",
            "Epoch 9/20\n",
            "134811/134811 [==============================] - 8s 60us/step - loss: 0.0017 - val_loss: 8.9153e-04\n",
            "Epoch 10/20\n",
            "134811/134811 [==============================] - 8s 60us/step - loss: 0.0017 - val_loss: 8.8285e-04\n",
            "Epoch 11/20\n",
            "134811/134811 [==============================] - 8s 60us/step - loss: 0.0017 - val_loss: 8.6795e-04\n",
            "Epoch 12/20\n",
            "134811/134811 [==============================] - 8s 61us/step - loss: 0.0017 - val_loss: 8.6674e-04\n",
            "Epoch 13/20\n",
            "134811/134811 [==============================] - 8s 60us/step - loss: 0.0017 - val_loss: 8.6478e-04\n",
            "Epoch 14/20\n",
            "134811/134811 [==============================] - 8s 59us/step - loss: 0.0017 - val_loss: 8.6658e-04\n",
            "Epoch 15/20\n",
            "134811/134811 [==============================] - 8s 57us/step - loss: 0.0016 - val_loss: 8.6817e-04\n",
            "Epoch 16/20\n",
            "134811/134811 [==============================] - 7s 56us/step - loss: 0.0016 - val_loss: 8.6335e-04\n",
            "Epoch 17/20\n",
            "134811/134811 [==============================] - 8s 57us/step - loss: 0.0016 - val_loss: 8.5058e-04\n",
            "Epoch 18/20\n",
            "134811/134811 [==============================] - 7s 56us/step - loss: 0.0016 - val_loss: 8.5983e-04\n",
            "Epoch 19/20\n",
            "134811/134811 [==============================] - 7s 55us/step - loss: 0.0016 - val_loss: 8.5712e-04\n",
            "Epoch 20/20\n",
            "134811/134811 [==============================] - 8s 56us/step - loss: 0.0016 - val_loss: 8.6270e-04\n",
            "Model: \"sequential_3\"\n",
            "_________________________________________________________________\n",
            "Layer (type)                 Output Shape              Param #   \n",
            "=================================================================\n",
            "lstm_3 (LSTM)                (None, 100)               52400     \n",
            "_________________________________________________________________\n",
            "dropout_3 (Dropout)          (None, 100)               0         \n",
            "_________________________________________________________________\n",
            "dense_3 (Dense)              (None, 1)                 101       \n",
            "=================================================================\n",
            "Total params: 52,501\n",
            "Trainable params: 52,501\n",
            "Non-trainable params: 0\n",
            "_________________________________________________________________\n"
          ],
          "name": "stdout"
        }
      ]
    },
    {
      "cell_type": "code",
      "metadata": {
        "id": "BVrYu7Id5-la",
        "colab_type": "code",
        "colab": {}
      },
      "source": [
        "train_predict = model.predict(X_train)\n",
        "test_predict = model.predict(X_test)\n",
        "# invert predictions\n",
        "train_predict = scaler.inverse_transform(train_predict)\n",
        "Y_train = scaler.inverse_transform([Y_train])\n",
        "test_predict = scaler.inverse_transform(test_predict)\n",
        "Y_test = scaler.inverse_transform([Y_test])"
      ],
      "execution_count": 0,
      "outputs": []
    },
    {
      "cell_type": "code",
      "metadata": {
        "id": "RojFJ5dl5-gN",
        "colab_type": "code",
        "colab": {
          "base_uri": "https://localhost:8080/"
        },
        "outputId": "718df5e0-efbf-4b89-c666-264a3794b1f0"
      },
      "source": [
        "print('Train Mean Absolute Error:', mean_absolute_error(Y_train[0], train_predict[:,0]))\n",
        "print('Train Root Mean Squared Error:',np.sqrt(mean_squared_error(Y_train[0], train_predict[:,0])))\n",
        "print('Test Mean Absolute Error:', mean_absolute_error(Y_test[0], test_predict[:,0]))\n",
        "print('Test Root Mean Squared Error:',np.sqrt(mean_squared_error(Y_test[0], test_predict[:,0])))"
      ],
      "execution_count": 81,
      "outputs": [
        {
          "output_type": "stream",
          "text": [
            "Train Mean Absolute Error: 280.09157645129767\n",
            "Train Root Mean Squared Error: 639.1232184843273\n",
            "Test Mean Absolute Error: 214.12899485328236\n",
            "Test Root Mean Squared Error: 411.14659004198705\n"
          ],
          "name": "stdout"
        }
      ]
    },
    {
      "cell_type": "code",
      "metadata": {
        "id": "wziV1Uw25-bJ",
        "colab_type": "code",
        "colab": {
          "base_uri": "https://localhost:8080/"
        },
        "outputId": "4d1574f4-a23d-45de-9b04-1bc118e213e2"
      },
      "source": [
        "plt.figure(figsize=(8,4))\n",
        "plt.plot(history.history['loss'], label='Train Loss')\n",
        "plt.plot(history.history['val_loss'], label='Test Loss')\n",
        "plt.title('model loss')\n",
        "plt.ylabel('loss')\n",
        "plt.xlabel('epochs')\n",
        "plt.legend(loc='upper right')\n",
        "plt.show();"
      ],
      "execution_count": 82,
      "outputs": [
        {
          "output_type": "display_data",
          "data": {
            "image/png": "[encoded data removed]",
            "text/plain": [
              "<Figure size 576x288 with 1 Axes>"
            ]
          },
          "metadata": {
            "tags": []
          }
        }
      ]
    },
    {
      "cell_type": "code",
      "metadata": {
        "id": "T1QAu7025-Wo",
        "colab_type": "code",
        "colab": {
          "base_uri": "https://localhost:8080/"
        },
        "outputId": "d5d027a9-cba5-43d6-d5e3-029d2ec14b7f"
      },
      "source": [
        "aa=[x for x in range(200)]\n",
        "plt.figure(figsize=(8,4))\n",
        "plt.plot(aa, Y_test[0][:200], marker='.', label=\"actual\")\n",
        "plt.plot(aa, test_predict[:,0][:200], 'r', label=\"prediction\")\n",
        "# plt.tick_params(left=False, labelleft=True) #remove ticks\n",
        "plt.tight_layout()\n",
        "sns.despine(top=True)\n",
        "plt.subplots_adjust(left=0.07)\n",
        "plt.ylabel('Prices', size=15)\n",
        "plt.xlabel('Time step', size=15)\n",
        "plt.legend(fontsize=15)\n",
        "plt.show();"
      ],
      "execution_count": 83,
      "outputs": [
        {
          "output_type": "display_data",
          "data": {
            "image/png": "[encoded data removed]",
            "text/plain": [
              "<Figure size 576x288 with 1 Axes>"
            ]
          },
          "metadata": {
            "tags": []
          }
        }
      ]
    },
    {
      "cell_type": "code",
      "metadata": {
        "id": "N-LRkLzw5-SX",
        "colab_type": "code",
        "colab": {}
      },
      "source": [
        ""
      ],
      "execution_count": 0,
      "outputs": []
    },
    {
      "cell_type": "code",
      "metadata": {
        "id": "Z8-6D_Az5-Hy",
        "colab_type": "code",
        "colab": {}
      },
      "source": [
        ""
      ],
      "execution_count": 0,
      "outputs": []
    }
  ]
}