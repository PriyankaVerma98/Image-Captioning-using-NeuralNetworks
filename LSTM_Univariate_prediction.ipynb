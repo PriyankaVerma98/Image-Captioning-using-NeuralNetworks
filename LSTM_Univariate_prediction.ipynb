{
  "nbformat": 4,
  "nbformat_minor": 0,
  "metadata": {
    "colab": {
      "name": "LSTM-Univariate prediction.ipynb",
      "provenance": [],
      "collapsed_sections": [],
      "include_colab_link": true
    },
    "kernelspec": {
      "name": "python3",
      "display_name": "Python 3"
    }
  },
  "cells": [
    {
      "cell_type": "markdown",
      "metadata": {
        "id": "view-in-github",
        "colab_type": "text"
      },
      "source": [
        "<a href=\"https://colab.research.google.com/github/PriyankaVerma98/Neural_networks_TensorFlow/blob/master/LSTM_Univariate_prediction.ipynb\" target=\"_parent\"><img src=\"https://colab.research.google.com/assets/colab-badge.svg\" alt=\"Open In Colab\"/></a>"
      ]
    },
    {
      "cell_type": "code",
      "metadata": {
        "id": "ieZLTqoTLViO",
        "colab_type": "code",
        "colab": {}
      },
      "source": [
        "import pandas\n",
        "import matplotlib.pyplot as plt\n"
      ],
      "execution_count": 0,
      "outputs": []
    },
    {
      "cell_type": "code",
      "metadata": {
        "id": "sUaoBMixOSpd",
        "colab_type": "code",
        "colab": {
          "base_uri": "https://localhost:8080/",
          "height": 265
        },
        "outputId": "5a2389fe-8051-4de8-b3d2-4efd5ea528e4"
      },
      "source": [
        "dataset = pandas.read_csv('https://raw.githubusercontent.com/jbrownlee/Datasets/master/airline-passengers.csv', usecols=[1], engine='python')\n",
        "plt.plot(dataset)\n",
        "plt.show()"
      ],
      "execution_count": 40,
      "outputs": [
        {
          "output_type": "display_data",
          "data": {
            "image/png": "[encoded data removed]",
            "text/plain": [
              "<Figure size 432x288 with 1 Axes>"
            ]
          },
          "metadata": {
            "tags": []
          }
        }
      ]
    },
    {
      "cell_type": "code",
      "metadata": {
        "id": "fKrlDjxlcUYE",
        "colab_type": "code",
        "colab": {}
      },
      "source": [
        "import numpy\n",
        "import matplotlib.pyplot as plt\n",
        "import pandas\n",
        "import math\n",
        "from keras.models import Sequential\n",
        "from keras.layers import Dense\n",
        "from keras.layers import LSTM\n",
        "from sklearn.preprocessing import MinMaxScaler\n",
        "from sklearn.metrics import mean_squared_error"
      ],
      "execution_count": 0,
      "outputs": []
    },
    {
      "cell_type": "code",
      "metadata": {
        "id": "cgDaL7xqcaCz",
        "colab_type": "code",
        "colab": {}
      },
      "source": [
        "numpy.random.seed(7)"
      ],
      "execution_count": 0,
      "outputs": []
    },
    {
      "cell_type": "code",
      "metadata": {
        "id": "UUUsOPKHcZrg",
        "colab_type": "code",
        "colab": {}
      },
      "source": [
        "dataframe = pandas.read_csv('https://raw.githubusercontent.com/jbrownlee/Datasets/master/airline-passengers.csv', usecols=[1], engine='python')\n",
        "dataset = dataframe.values\n",
        "dataset = dataset.astype('float32')"
      ],
      "execution_count": 0,
      "outputs": []
    },
    {
      "cell_type": "code",
      "metadata": {
        "id": "eW8JBUlWcZWD",
        "colab_type": "code",
        "colab": {}
      },
      "source": [
        "# normalize \n",
        "scaler = MinMaxScaler(feature_range=(0, 1))\n",
        "dataset = scaler.fit_transform(dataset)"
      ],
      "execution_count": 0,
      "outputs": []
    },
    {
      "cell_type": "code",
      "metadata": {
        "id": "rdhVCcvXc8vJ",
        "colab_type": "code",
        "colab": {
          "base_uri": "https://localhost:8080/",
          "height": 34
        },
        "outputId": "21bc2977-59db-4105-c609-6138a408cacf"
      },
      "source": [
        "# split  train and test sets\n",
        "train_size = int(len(dataset) * 0.67)\n",
        "test_size = len(dataset) - train_size\n",
        "train, test = dataset[0:train_size,:], dataset[train_size:len(dataset),:]\n",
        "print(len(train), len(test))"
      ],
      "execution_count": 45,
      "outputs": [
        {
          "output_type": "stream",
          "text": [
            "96 48\n"
          ],
          "name": "stdout"
        }
      ]
    },
    {
      "cell_type": "code",
      "metadata": {
        "id": "KZvpmP6Vc8lq",
        "colab_type": "code",
        "colab": {}
      },
      "source": [
        "# convert an array of values into a dataset matrix\n",
        "def create_dataset(dataset, look_back):\n",
        "\tdataX, dataY = [], []\n",
        "\tfor i in range(len(dataset)-look_back-1):\n",
        "\t\ta = dataset[i:(i+look_back), 0]\n",
        "\t\tdataX.append(a)\n",
        "\t\tdataY.append(dataset[i + look_back, 0])\n",
        "\treturn numpy.array(dataX), numpy.array(dataY)"
      ],
      "execution_count": 0,
      "outputs": []
    },
    {
      "cell_type": "code",
      "metadata": {
        "id": "PJNYRbO2eYvV",
        "colab_type": "code",
        "colab": {}
      },
      "source": [
        "# reshape into X=t and Y=t+1\n",
        "look_back = 1\n",
        "trainX, trainY = create_dataset(train, look_back)\n",
        "testX, testY = create_dataset(test, look_back)"
      ],
      "execution_count": 0,
      "outputs": []
    },
    {
      "cell_type": "code",
      "metadata": {
        "id": "y9FV7cXneYbc",
        "colab_type": "code",
        "colab": {
          "base_uri": "https://localhost:8080/",
          "height": 1000
        },
        "outputId": "8857f761-7e89-496e-f323-692f38d6a66a"
      },
      "source": [
        "trainX"
      ],
      "execution_count": 48,
      "outputs": [
        {
          "output_type": "execute_result",
          "data": {
            "text/plain": [
              "array([[0.01544401],\n",
              "       [0.02702703],\n",
              "       [0.05405405],\n",
              "       [0.04826255],\n",
              "       [0.03281853],\n",
              "       [0.05984557],\n",
              "       [0.08494207],\n",
              "       [0.08494207],\n",
              "       [0.06177607],\n",
              "       [0.02895753],\n",
              "       [0.        ],\n",
              "       [0.02702703],\n",
              "       [0.02123553],\n",
              "       [0.04247104],\n",
              "       [0.07142857],\n",
              "       [0.05984557],\n",
              "       [0.04054055],\n",
              "       [0.08687258],\n",
              "       [0.12741312],\n",
              "       [0.12741312],\n",
              "       [0.10424709],\n",
              "       [0.05598456],\n",
              "       [0.01930502],\n",
              "       [0.06949806],\n",
              "       [0.07915059],\n",
              "       [0.08880308],\n",
              "       [0.14285713],\n",
              "       [0.11389962],\n",
              "       [0.13127413],\n",
              "       [0.14285713],\n",
              "       [0.18339768],\n",
              "       [0.18339768],\n",
              "       [0.15444016],\n",
              "       [0.11196911],\n",
              "       [0.08108109],\n",
              "       [0.1196911 ],\n",
              "       [0.12934363],\n",
              "       [0.14671814],\n",
              "       [0.17181468],\n",
              "       [0.14864865],\n",
              "       [0.15250966],\n",
              "       [0.22007722],\n",
              "       [0.24324325],\n",
              "       [0.26640925],\n",
              "       [0.2027027 ],\n",
              "       [0.16795367],\n",
              "       [0.13127413],\n",
              "       [0.17374519],\n",
              "       [0.17760617],\n",
              "       [0.17760617],\n",
              "       [0.25482625],\n",
              "       [0.25289574],\n",
              "       [0.24131274],\n",
              "       [0.26833975],\n",
              "       [0.3088803 ],\n",
              "       [0.32432434],\n",
              "       [0.25675675],\n",
              "       [0.20656371],\n",
              "       [0.14671814],\n",
              "       [0.18725869],\n",
              "       [0.19305018],\n",
              "       [0.16216215],\n",
              "       [0.25289574],\n",
              "       [0.23745173],\n",
              "       [0.25096524],\n",
              "       [0.3088803 ],\n",
              "       [0.38223937],\n",
              "       [0.36486486],\n",
              "       [0.2992278 ],\n",
              "       [0.24131274],\n",
              "       [0.1911197 ],\n",
              "       [0.24131274],\n",
              "       [0.26640925],\n",
              "       [0.24903473],\n",
              "       [0.31467178],\n",
              "       [0.3185328 ],\n",
              "       [0.32046333],\n",
              "       [0.4073359 ],\n",
              "       [0.5019305 ],\n",
              "       [0.46911195],\n",
              "       [0.40154442],\n",
              "       [0.32818535],\n",
              "       [0.25675675],\n",
              "       [0.3359073 ],\n",
              "       [0.34749034],\n",
              "       [0.33397684],\n",
              "       [0.41119692],\n",
              "       [0.4034749 ],\n",
              "       [0.4131274 ],\n",
              "       [0.52123547],\n",
              "       [0.5965251 ],\n",
              "       [0.58108103],\n",
              "       [0.484556  ],\n",
              "       [0.3899614 ]], dtype=float32)"
            ]
          },
          "metadata": {
            "tags": []
          },
          "execution_count": 48
        }
      ]
    },
    {
      "cell_type": "code",
      "metadata": {
        "id": "6zPN1gJOet52",
        "colab_type": "code",
        "colab": {}
      },
      "source": [
        "# reshape input to be [samples, time steps, features]\n",
        "trainX = numpy.reshape(trainX, (trainX.shape[0], 1, trainX.shape[1]))\n",
        "testX = numpy.reshape(testX, (testX.shape[0], 1, testX.shape[1]))"
      ],
      "execution_count": 0,
      "outputs": []
    },
    {
      "cell_type": "code",
      "metadata": {
        "id": "fwPWlzY2etpY",
        "colab_type": "code",
        "colab": {
          "base_uri": "https://localhost:8080/",
          "height": 1000
        },
        "outputId": "633bea27-b9e8-493b-94e2-8297ea908324"
      },
      "source": [
        "trainX"
      ],
      "execution_count": 50,
      "outputs": [
        {
          "output_type": "execute_result",
          "data": {
            "text/plain": [
              "array([[[0.01544401]],\n",
              "\n",
              "       [[0.02702703]],\n",
              "\n",
              "       [[0.05405405]],\n",
              "\n",
              "       [[0.04826255]],\n",
              "\n",
              "       [[0.03281853]],\n",
              "\n",
              "       [[0.05984557]],\n",
              "\n",
              "       [[0.08494207]],\n",
              "\n",
              "       [[0.08494207]],\n",
              "\n",
              "       [[0.06177607]],\n",
              "\n",
              "       [[0.02895753]],\n",
              "\n",
              "       [[0.        ]],\n",
              "\n",
              "       [[0.02702703]],\n",
              "\n",
              "       [[0.02123553]],\n",
              "\n",
              "       [[0.04247104]],\n",
              "\n",
              "       [[0.07142857]],\n",
              "\n",
              "       [[0.05984557]],\n",
              "\n",
              "       [[0.04054055]],\n",
              "\n",
              "       [[0.08687258]],\n",
              "\n",
              "       [[0.12741312]],\n",
              "\n",
              "       [[0.12741312]],\n",
              "\n",
              "       [[0.10424709]],\n",
              "\n",
              "       [[0.05598456]],\n",
              "\n",
              "       [[0.01930502]],\n",
              "\n",
              "       [[0.06949806]],\n",
              "\n",
              "       [[0.07915059]],\n",
              "\n",
              "       [[0.08880308]],\n",
              "\n",
              "       [[0.14285713]],\n",
              "\n",
              "       [[0.11389962]],\n",
              "\n",
              "       [[0.13127413]],\n",
              "\n",
              "       [[0.14285713]],\n",
              "\n",
              "       [[0.18339768]],\n",
              "\n",
              "       [[0.18339768]],\n",
              "\n",
              "       [[0.15444016]],\n",
              "\n",
              "       [[0.11196911]],\n",
              "\n",
              "       [[0.08108109]],\n",
              "\n",
              "       [[0.1196911 ]],\n",
              "\n",
              "       [[0.12934363]],\n",
              "\n",
              "       [[0.14671814]],\n",
              "\n",
              "       [[0.17181468]],\n",
              "\n",
              "       [[0.14864865]],\n",
              "\n",
              "       [[0.15250966]],\n",
              "\n",
              "       [[0.22007722]],\n",
              "\n",
              "       [[0.24324325]],\n",
              "\n",
              "       [[0.26640925]],\n",
              "\n",
              "       [[0.2027027 ]],\n",
              "\n",
              "       [[0.16795367]],\n",
              "\n",
              "       [[0.13127413]],\n",
              "\n",
              "       [[0.17374519]],\n",
              "\n",
              "       [[0.17760617]],\n",
              "\n",
              "       [[0.17760617]],\n",
              "\n",
              "       [[0.25482625]],\n",
              "\n",
              "       [[0.25289574]],\n",
              "\n",
              "       [[0.24131274]],\n",
              "\n",
              "       [[0.26833975]],\n",
              "\n",
              "       [[0.3088803 ]],\n",
              "\n",
              "       [[0.32432434]],\n",
              "\n",
              "       [[0.25675675]],\n",
              "\n",
              "       [[0.20656371]],\n",
              "\n",
              "       [[0.14671814]],\n",
              "\n",
              "       [[0.18725869]],\n",
              "\n",
              "       [[0.19305018]],\n",
              "\n",
              "       [[0.16216215]],\n",
              "\n",
              "       [[0.25289574]],\n",
              "\n",
              "       [[0.23745173]],\n",
              "\n",
              "       [[0.25096524]],\n",
              "\n",
              "       [[0.3088803 ]],\n",
              "\n",
              "       [[0.38223937]],\n",
              "\n",
              "       [[0.36486486]],\n",
              "\n",
              "       [[0.2992278 ]],\n",
              "\n",
              "       [[0.24131274]],\n",
              "\n",
              "       [[0.1911197 ]],\n",
              "\n",
              "       [[0.24131274]],\n",
              "\n",
              "       [[0.26640925]],\n",
              "\n",
              "       [[0.24903473]],\n",
              "\n",
              "       [[0.31467178]],\n",
              "\n",
              "       [[0.3185328 ]],\n",
              "\n",
              "       [[0.32046333]],\n",
              "\n",
              "       [[0.4073359 ]],\n",
              "\n",
              "       [[0.5019305 ]],\n",
              "\n",
              "       [[0.46911195]],\n",
              "\n",
              "       [[0.40154442]],\n",
              "\n",
              "       [[0.32818535]],\n",
              "\n",
              "       [[0.25675675]],\n",
              "\n",
              "       [[0.3359073 ]],\n",
              "\n",
              "       [[0.34749034]],\n",
              "\n",
              "       [[0.33397684]],\n",
              "\n",
              "       [[0.41119692]],\n",
              "\n",
              "       [[0.4034749 ]],\n",
              "\n",
              "       [[0.4131274 ]],\n",
              "\n",
              "       [[0.52123547]],\n",
              "\n",
              "       [[0.5965251 ]],\n",
              "\n",
              "       [[0.58108103]],\n",
              "\n",
              "       [[0.484556  ]],\n",
              "\n",
              "       [[0.3899614 ]]], dtype=float32)"
            ]
          },
          "metadata": {
            "tags": []
          },
          "execution_count": 50
        }
      ]
    },
    {
      "cell_type": "markdown",
      "metadata": {
        "id": "Noax5Vb-fh1j",
        "colab_type": "text"
      },
      "source": [
        "The network has a visible layer with 1 input, a hidden layer with 4 LSTM blocks or neurons, and an output layer that makes a single value prediction. The default sigmoid activation function is used for the LSTM blocks. The network is trained for 100 epochs and a batch size of 1 is used."
      ]
    },
    {
      "cell_type": "code",
      "metadata": {
        "id": "R5QUYMKue2wA",
        "colab_type": "code",
        "colab": {
          "base_uri": "https://localhost:8080/",
          "height": 1000
        },
        "outputId": "5457c500-8a35-4003-b77d-f8e4cd318a26"
      },
      "source": [
        "# create and fit the LSTM network\n",
        "model = Sequential()\n",
        "model.add(LSTM(4, input_shape=(1, look_back)))\n",
        "model.add(Dense(1))\n",
        "model.compile(loss='mean_squared_error', optimizer='adam')\n",
        "model.fit(trainX, trainY, epochs=100, batch_size=1, verbose=2)"
      ],
      "execution_count": 51,
      "outputs": [
        {
          "output_type": "stream",
          "text": [
            "Epoch 1/100\n",
            " - 1s - loss: 0.0413\n",
            "Epoch 2/100\n",
            " - 0s - loss: 0.0202\n",
            "Epoch 3/100\n",
            " - 0s - loss: 0.0145\n",
            "Epoch 4/100\n",
            " - 0s - loss: 0.0131\n",
            "Epoch 5/100\n",
            " - 0s - loss: 0.0121\n",
            "Epoch 6/100\n",
            " - 0s - loss: 0.0111\n",
            "Epoch 7/100\n",
            " - 0s - loss: 0.0102\n",
            "Epoch 8/100\n",
            " - 0s - loss: 0.0093\n",
            "Epoch 9/100\n",
            " - 0s - loss: 0.0081\n",
            "Epoch 10/100\n",
            " - 0s - loss: 0.0071\n",
            "Epoch 11/100\n",
            " - 0s - loss: 0.0062\n",
            "Epoch 12/100\n",
            " - 0s - loss: 0.0053\n",
            "Epoch 13/100\n",
            " - 0s - loss: 0.0045\n",
            "Epoch 14/100\n",
            " - 0s - loss: 0.0038\n",
            "Epoch 15/100\n",
            " - 0s - loss: 0.0033\n",
            "Epoch 16/100\n",
            " - 0s - loss: 0.0029\n",
            "Epoch 17/100\n",
            " - 0s - loss: 0.0026\n",
            "Epoch 18/100\n",
            " - 0s - loss: 0.0024\n",
            "Epoch 19/100\n",
            " - 0s - loss: 0.0022\n",
            "Epoch 20/100\n",
            " - 0s - loss: 0.0022\n",
            "Epoch 21/100\n",
            " - 0s - loss: 0.0021\n",
            "Epoch 22/100\n",
            " - 0s - loss: 0.0021\n",
            "Epoch 23/100\n",
            " - 0s - loss: 0.0021\n",
            "Epoch 24/100\n",
            " - 0s - loss: 0.0021\n",
            "Epoch 25/100\n",
            " - 0s - loss: 0.0020\n",
            "Epoch 26/100\n",
            " - 0s - loss: 0.0021\n",
            "Epoch 27/100\n",
            " - 0s - loss: 0.0020\n",
            "Epoch 28/100\n",
            " - 0s - loss: 0.0020\n",
            "Epoch 29/100\n",
            " - 0s - loss: 0.0020\n",
            "Epoch 30/100\n",
            " - 0s - loss: 0.0021\n",
            "Epoch 31/100\n",
            " - 0s - loss: 0.0020\n",
            "Epoch 32/100\n",
            " - 0s - loss: 0.0020\n",
            "Epoch 33/100\n",
            " - 0s - loss: 0.0021\n",
            "Epoch 34/100\n",
            " - 0s - loss: 0.0021\n",
            "Epoch 35/100\n",
            " - 0s - loss: 0.0021\n",
            "Epoch 36/100\n",
            " - 0s - loss: 0.0020\n",
            "Epoch 37/100\n",
            " - 0s - loss: 0.0021\n",
            "Epoch 38/100\n",
            " - 0s - loss: 0.0020\n",
            "Epoch 39/100\n",
            " - 0s - loss: 0.0021\n",
            "Epoch 40/100\n",
            " - 0s - loss: 0.0020\n",
            "Epoch 41/100\n",
            " - 0s - loss: 0.0020\n",
            "Epoch 42/100\n",
            " - 0s - loss: 0.0020\n",
            "Epoch 43/100\n",
            " - 0s - loss: 0.0021\n",
            "Epoch 44/100\n",
            " - 0s - loss: 0.0020\n",
            "Epoch 45/100\n",
            " - 0s - loss: 0.0021\n",
            "Epoch 46/100\n",
            " - 0s - loss: 0.0020\n",
            "Epoch 47/100\n",
            " - 0s - loss: 0.0020\n",
            "Epoch 48/100\n",
            " - 0s - loss: 0.0020\n",
            "Epoch 49/100\n",
            " - 0s - loss: 0.0020\n",
            "Epoch 50/100\n",
            " - 0s - loss: 0.0020\n",
            "Epoch 51/100\n",
            " - 0s - loss: 0.0020\n",
            "Epoch 52/100\n",
            " - 0s - loss: 0.0020\n",
            "Epoch 53/100\n",
            " - 0s - loss: 0.0020\n",
            "Epoch 54/100\n",
            " - 0s - loss: 0.0020\n",
            "Epoch 55/100\n",
            " - 0s - loss: 0.0021\n",
            "Epoch 56/100\n",
            " - 0s - loss: 0.0020\n",
            "Epoch 57/100\n",
            " - 0s - loss: 0.0020\n",
            "Epoch 58/100\n",
            " - 0s - loss: 0.0020\n",
            "Epoch 59/100\n",
            " - 0s - loss: 0.0020\n",
            "Epoch 60/100\n",
            " - 0s - loss: 0.0020\n",
            "Epoch 61/100\n",
            " - 0s - loss: 0.0021\n",
            "Epoch 62/100\n",
            " - 0s - loss: 0.0020\n",
            "Epoch 63/100\n",
            " - 0s - loss: 0.0020\n",
            "Epoch 64/100\n",
            " - 0s - loss: 0.0020\n",
            "Epoch 65/100\n",
            " - 0s - loss: 0.0020\n",
            "Epoch 66/100\n",
            " - 0s - loss: 0.0020\n",
            "Epoch 67/100\n",
            " - 0s - loss: 0.0020\n",
            "Epoch 68/100\n",
            " - 0s - loss: 0.0021\n",
            "Epoch 69/100\n",
            " - 0s - loss: 0.0020\n",
            "Epoch 70/100\n",
            " - 0s - loss: 0.0021\n",
            "Epoch 71/100\n",
            " - 0s - loss: 0.0020\n",
            "Epoch 72/100\n",
            " - 0s - loss: 0.0020\n",
            "Epoch 73/100\n",
            " - 0s - loss: 0.0020\n",
            "Epoch 74/100\n",
            " - 0s - loss: 0.0021\n",
            "Epoch 75/100\n",
            " - 0s - loss: 0.0021\n",
            "Epoch 76/100\n",
            " - 0s - loss: 0.0020\n",
            "Epoch 77/100\n",
            " - 0s - loss: 0.0021\n",
            "Epoch 78/100\n",
            " - 0s - loss: 0.0019\n",
            "Epoch 79/100\n",
            " - 0s - loss: 0.0022\n",
            "Epoch 80/100\n",
            " - 0s - loss: 0.0020\n",
            "Epoch 81/100\n",
            " - 0s - loss: 0.0020\n",
            "Epoch 82/100\n",
            " - 0s - loss: 0.0020\n",
            "Epoch 83/100\n",
            " - 0s - loss: 0.0020\n",
            "Epoch 84/100\n",
            " - 0s - loss: 0.0020\n",
            "Epoch 85/100\n",
            " - 0s - loss: 0.0021\n",
            "Epoch 86/100\n",
            " - 0s - loss: 0.0021\n",
            "Epoch 87/100\n",
            " - 0s - loss: 0.0020\n",
            "Epoch 88/100\n",
            " - 0s - loss: 0.0020\n",
            "Epoch 89/100\n",
            " - 0s - loss: 0.0020\n",
            "Epoch 90/100\n",
            " - 0s - loss: 0.0020\n",
            "Epoch 91/100\n",
            " - 0s - loss: 0.0020\n",
            "Epoch 92/100\n",
            " - 0s - loss: 0.0020\n",
            "Epoch 93/100\n",
            " - 0s - loss: 0.0021\n",
            "Epoch 94/100\n",
            " - 0s - loss: 0.0021\n",
            "Epoch 95/100\n",
            " - 0s - loss: 0.0020\n",
            "Epoch 96/100\n",
            " - 0s - loss: 0.0020\n",
            "Epoch 97/100\n",
            " - 0s - loss: 0.0020\n",
            "Epoch 98/100\n",
            " - 0s - loss: 0.0020\n",
            "Epoch 99/100\n",
            " - 0s - loss: 0.0020\n",
            "Epoch 100/100\n",
            " - 0s - loss: 0.0020\n"
          ],
          "name": "stdout"
        },
        {
          "output_type": "execute_result",
          "data": {
            "text/plain": [
              "<keras.callbacks.History at 0x7fd0fd147eb8>"
            ]
          },
          "metadata": {
            "tags": []
          },
          "execution_count": 51
        }
      ]
    },
    {
      "cell_type": "code",
      "metadata": {
        "id": "Kzd5QUPpe2rA",
        "colab_type": "code",
        "colab": {
          "base_uri": "https://localhost:8080/",
          "height": 51
        },
        "outputId": "c225763f-f01e-4142-97e1-85373c8a1773"
      },
      "source": [
        "# make predictions\n",
        "trainPredict = model.predict(trainX)\n",
        "testPredict = model.predict(testX)\n",
        "\n",
        "# invert predictions\n",
        "trainPredict = scaler.inverse_transform(trainPredict)\n",
        "trainY = scaler.inverse_transform([trainY])\n",
        "testPredict = scaler.inverse_transform(testPredict)\n",
        "testY = scaler.inverse_transform([testY])\n",
        "\n",
        "# calculate root mean squared error\n",
        "trainScore = math.sqrt(mean_squared_error(trainY[0], trainPredict[:,0]))\n",
        "print('Train Score: %.2f RMSE' % (trainScore))\n",
        "testScore = math.sqrt(mean_squared_error(testY[0], testPredict[:,0]))\n",
        "print('Test Score: %.2f RMSE' % (testScore))"
      ],
      "execution_count": 52,
      "outputs": [
        {
          "output_type": "stream",
          "text": [
            "Train Score: 22.92 RMSE\n",
            "Test Score: 47.53 RMSE\n"
          ],
          "name": "stdout"
        }
      ]
    },
    {
      "cell_type": "code",
      "metadata": {
        "id": "xv2sqMeTe2kN",
        "colab_type": "code",
        "colab": {
          "base_uri": "https://localhost:8080/",
          "height": 265
        },
        "outputId": "5fed46bd-4e2e-4957-f873-fa8e1ba32485"
      },
      "source": [
        "# shift train predictions for plotting\n",
        "trainPredictPlot = numpy.empty_like(dataset)\n",
        "trainPredictPlot[:, :] = numpy.nan\n",
        "trainPredictPlot[look_back:len(trainPredict)+look_back, :] = trainPredict\n",
        "# shift test predictions for plotting\n",
        "testPredictPlot = numpy.empty_like(dataset)\n",
        "testPredictPlot[:, :] = numpy.nan\n",
        "testPredictPlot[len(trainPredict)+(look_back*2)+1:len(dataset)-1, :] = testPredict\n",
        "# plot baseline and predictions\n",
        "plt.plot(scaler.inverse_transform(dataset))\n",
        "plt.plot(trainPredictPlot)\n",
        "plt.plot(testPredictPlot)\n",
        "plt.show()"
      ],
      "execution_count": 53,
      "outputs": [
        {
          "output_type": "display_data",
          "data": {
            "image/png": "[encoded data removed]",
            "text/plain": [
              "<Figure size 432x288 with 1 Axes>"
            ]
          },
          "metadata": {
            "tags": []
          }
        }
      ]
    },
    {
      "cell_type": "code",
      "metadata": {
        "id": "2eZ1_5oUe2eX",
        "colab_type": "code",
        "colab": {}
      },
      "source": [
        "#references\n",
        "# https://machinelearningmastery.com/time-series-prediction-lstm-recurrent-neural-networks-python-keras/ "
      ],
      "execution_count": 0,
      "outputs": []
    },
    {
      "cell_type": "markdown",
      "metadata": {
        "id": "Z3QhL-3GOT2y",
        "colab_type": "text"
      },
      "source": [
        "*italicized text*"
      ]
    },
    {
      "cell_type": "markdown",
      "metadata": {
        "id": "Ew7GXmF7OUFq",
        "colab_type": "text"
      },
      "source": [
        ""
      ]
    }
  ]
}