{
  "nbformat": 4,
  "nbformat_minor": 0,
  "metadata": {
    "kernelspec": {
      "display_name": "Python 3",
      "language": "python",
      "name": "python3"
    },
    "language_info": {
      "codemirror_mode": {
        "name": "ipython",
        "version": 3
      },
      "file_extension": ".py",
      "mimetype": "text/x-python",
      "name": "python",
      "nbconvert_exporter": "python",
      "pygments_lexer": "ipython3",
      "version": "3.5.4"
    },
    "colab": {
      "name": "1-Regression-code.ipynb",
      "provenance": [],
      "collapsed_sections": [
        "aVeYZl_fjNW2",
        "BQYlFi52jNXC",
        "d3wlRogijNXP",
        "iCjWXCF-jNXU",
        "vhIwTXKNjNXb",
        "J1adSpp_jNXe",
        "aW7nrndQjNXj"
      ],
      "include_colab_link": true
    }
  },
  "cells": [
    {
      "cell_type": "markdown",
      "metadata": {
        "id": "view-in-github",
        "colab_type": "text"
      },
      "source": [
        "<a href=\"https://colab.research.google.com/github/PriyankaVerma98/Neural_networks_TensorFlow/blob/master/1_Regression_code.ipynb\" target=\"_parent\"><img src=\"https://colab.research.google.com/assets/colab-badge.svg\" alt=\"Open In Colab\"/></a>"
      ]
    },
    {
      "cell_type": "markdown",
      "metadata": {
        "collapsed": true,
        "id": "GvfBeI2wjNVe",
        "colab_type": "text"
      },
      "source": [
        "# TensorFlow Regression Example"
      ]
    },
    {
      "cell_type": "markdown",
      "metadata": {
        "id": "0l0tKLEujNVk",
        "colab_type": "text"
      },
      "source": [
        "## Creating Data"
      ]
    },
    {
      "cell_type": "code",
      "metadata": {
        "id": "bs053zFxjNVo",
        "colab_type": "code",
        "colab": {}
      },
      "source": [
        "import numpy as np\n",
        "import pandas as pd\n",
        "import matplotlib.pyplot as plt\n",
        "%matplotlib inline"
      ],
      "execution_count": 0,
      "outputs": []
    },
    {
      "cell_type": "code",
      "metadata": {
        "id": "YBkOsQTCjNV1",
        "colab_type": "code",
        "colab": {}
      },
      "source": [
        "# 1 Million Points\n",
        "x_data = np.linspace(0.0,10.0,1000000)"
      ],
      "execution_count": 0,
      "outputs": []
    },
    {
      "cell_type": "code",
      "metadata": {
        "id": "xmXQo0W0jNV_",
        "colab_type": "code",
        "colab": {}
      },
      "source": [
        "noise = np.random.randn(len(x_data))"
      ],
      "execution_count": 0,
      "outputs": []
    },
    {
      "cell_type": "code",
      "metadata": {
        "id": "KPWRJepPjNWF",
        "colab_type": "code",
        "colab": {}
      },
      "source": [
        "# y = mx + b + noise_levels\n",
        "b = 5\n",
        "\n",
        "y_true =  (0.5 * x_data ) + 5 + noise"
      ],
      "execution_count": 0,
      "outputs": []
    },
    {
      "cell_type": "code",
      "metadata": {
        "id": "8qGQSUvqjNWN",
        "colab_type": "code",
        "colab": {}
      },
      "source": [
        "my_data = pd.concat([pd.DataFrame(data=x_data,columns=['X Data']),pd.DataFrame(data=y_true,columns=['Y'])],axis=1)"
      ],
      "execution_count": 0,
      "outputs": []
    },
    {
      "cell_type": "code",
      "metadata": {
        "id": "rRAif7FwjNWT",
        "colab_type": "code",
        "colab": {
          "base_uri": "https://localhost:8080/",
          "height": 204
        },
        "outputId": "f6292c1d-caa6-4c2a-f7e8-48dd8e165cda"
      },
      "source": [
        "my_data.head()"
      ],
      "execution_count": 23,
      "outputs": [
        {
          "output_type": "execute_result",
          "data": {
            "text/html": [
              "<div>\n",
              "<style scoped>\n",
              "    .dataframe tbody tr th:only-of-type {\n",
              "        vertical-align: middle;\n",
              "    }\n",
              "\n",
              "    .dataframe tbody tr th {\n",
              "        vertical-align: top;\n",
              "    }\n",
              "\n",
              "    .dataframe thead th {\n",
              "        text-align: right;\n",
              "    }\n",
              "</style>\n",
              "<table border=\"1\" class=\"dataframe\">\n",
              "  <thead>\n",
              "    <tr style=\"text-align: right;\">\n",
              "      <th></th>\n",
              "      <th>X Data</th>\n",
              "      <th>Y</th>\n",
              "    </tr>\n",
              "  </thead>\n",
              "  <tbody>\n",
              "    <tr>\n",
              "      <th>0</th>\n",
              "      <td>0.00000</td>\n",
              "      <td>4.944644</td>\n",
              "    </tr>\n",
              "    <tr>\n",
              "      <th>1</th>\n",
              "      <td>0.00001</td>\n",
              "      <td>5.804019</td>\n",
              "    </tr>\n",
              "    <tr>\n",
              "      <th>2</th>\n",
              "      <td>0.00002</td>\n",
              "      <td>6.269126</td>\n",
              "    </tr>\n",
              "    <tr>\n",
              "      <th>3</th>\n",
              "      <td>0.00003</td>\n",
              "      <td>3.772195</td>\n",
              "    </tr>\n",
              "    <tr>\n",
              "      <th>4</th>\n",
              "      <td>0.00004</td>\n",
              "      <td>7.851658</td>\n",
              "    </tr>\n",
              "  </tbody>\n",
              "</table>\n",
              "</div>"
            ],
            "text/plain": [
              "    X Data         Y\n",
              "0  0.00000  4.944644\n",
              "1  0.00001  5.804019\n",
              "2  0.00002  6.269126\n",
              "3  0.00003  3.772195\n",
              "4  0.00004  7.851658"
            ]
          },
          "metadata": {
            "tags": []
          },
          "execution_count": 23
        }
      ]
    },
    {
      "cell_type": "code",
      "metadata": {
        "id": "VQkeNA2QjNWb",
        "colab_type": "code",
        "colab": {
          "base_uri": "https://localhost:8080/",
          "height": 296
        },
        "outputId": "dd7de9d2-9e58-46a2-8590-f44f2e924b5c"
      },
      "source": [
        " #to generate a sample random row or column\n",
        "my_data.sample(n=250).plot(kind='scatter',x='X Data',y='Y')"
      ],
      "execution_count": 13,
      "outputs": [
        {
          "output_type": "execute_result",
          "data": {
            "text/plain": [
              "<matplotlib.axes._subplots.AxesSubplot at 0x7f9d547fe780>"
            ]
          },
          "metadata": {
            "tags": []
          },
          "execution_count": 13
        },
        {
          "output_type": "display_data",
          "data": {
            "image/png": "[encoded data removed]",
            "text/plain": [
              "<Figure size 432x288 with 1 Axes>"
            ]
          },
          "metadata": {
            "tags": []
          }
        }
      ]
    },
    {
      "cell_type": "markdown",
      "metadata": {
        "id": "5ODMVTtpjNWf",
        "colab_type": "text"
      },
      "source": [
        "# TensorFlow\n",
        "## Batch Size\n",
        "\n",
        "take the data in batches\n",
        "else 1,000,000 points is a lot to pass in at once"
      ]
    },
    {
      "cell_type": "code",
      "metadata": {
        "id": "mfSoHKKFjNWg",
        "colab_type": "code",
        "colab": {}
      },
      "source": [
        "import tensorflow as tf"
      ],
      "execution_count": 0,
      "outputs": []
    },
    {
      "cell_type": "code",
      "metadata": {
        "id": "hSJCp5iFjNWj",
        "colab_type": "code",
        "colab": {}
      },
      "source": [
        "batch_size = 8"
      ],
      "execution_count": 0,
      "outputs": []
    },
    {
      "cell_type": "markdown",
      "metadata": {
        "id": "cRVn6RCwjNWl",
        "colab_type": "text"
      },
      "source": [
        "** Variables **"
      ]
    },
    {
      "cell_type": "code",
      "metadata": {
        "id": "YOw9usGQjNWm",
        "colab_type": "code",
        "colab": {}
      },
      "source": [
        "#randomly initialising m , b\n",
        "m = tf.Variable(0.5)\n",
        "b = tf.Variable(1.0)"
      ],
      "execution_count": 0,
      "outputs": []
    },
    {
      "cell_type": "markdown",
      "metadata": {
        "id": "YWU5sYAHjNWp",
        "colab_type": "text"
      },
      "source": [
        "** Placeholders **"
      ]
    },
    {
      "cell_type": "code",
      "metadata": {
        "id": "t5qUKVcgjNWq",
        "colab_type": "code",
        "colab": {}
      },
      "source": [
        "xph = tf.placeholder(tf.float32,[batch_size])\n",
        "yph = tf.placeholder(tf.float32,[batch_size])"
      ],
      "execution_count": 0,
      "outputs": []
    },
    {
      "cell_type": "markdown",
      "metadata": {
        "id": "vboXRIBujNWt",
        "colab_type": "text"
      },
      "source": [
        "** Graph **"
      ]
    },
    {
      "cell_type": "code",
      "metadata": {
        "id": "LVYEz50WjNWt",
        "colab_type": "code",
        "colab": {}
      },
      "source": [
        "y_model = m*xph + b"
      ],
      "execution_count": 0,
      "outputs": []
    },
    {
      "cell_type": "markdown",
      "metadata": {
        "id": "g3RwY1aAjNWv",
        "colab_type": "text"
      },
      "source": [
        "** Loss Function **"
      ]
    },
    {
      "cell_type": "code",
      "metadata": {
        "id": "82SX2BN9jNWv",
        "colab_type": "code",
        "colab": {}
      },
      "source": [
        "error = tf.reduce_sum(tf.square( yph- y_model))"
      ],
      "execution_count": 0,
      "outputs": []
    },
    {
      "cell_type": "markdown",
      "metadata": {
        "id": "J_ECV4aQjNWx",
        "colab_type": "text"
      },
      "source": [
        "** Optimizer **"
      ]
    },
    {
      "cell_type": "code",
      "metadata": {
        "id": "z0TRrtnZjNWy",
        "colab_type": "code",
        "colab": {}
      },
      "source": [
        "optimizer = tf.train.GradientDescentOptimizer(learning_rate=0.001)\n",
        "train = optimizer.minimize(error)"
      ],
      "execution_count": 0,
      "outputs": []
    },
    {
      "cell_type": "markdown",
      "metadata": {
        "id": "gngdRGzIjNWz",
        "colab_type": "text"
      },
      "source": [
        "** Initialize Variables **"
      ]
    },
    {
      "cell_type": "code",
      "metadata": {
        "id": "wZkwqap6jNW0",
        "colab_type": "code",
        "colab": {}
      },
      "source": [
        "init = tf.global_variables_initializer()\n",
        "#Only after running tf.global_variables_initializer() in a session\n",
        "# the variables hold the values you told them to hold when you declare them "
      ],
      "execution_count": 0,
      "outputs": []
    },
    {
      "cell_type": "markdown",
      "metadata": {
        "id": "aVeYZl_fjNW2",
        "colab_type": "text"
      },
      "source": [
        "### Session"
      ]
    },
    {
      "cell_type": "code",
      "metadata": {
        "id": "QgAyM8EsjNW3",
        "colab_type": "code",
        "colab": {}
      },
      "source": [
        "with tf.Session() as sess:\n",
        "    \n",
        "    sess.run(init)\n",
        "    \n",
        "    batches = 1000\n",
        "    \n",
        "    for i in range(batches):\n",
        "        \n",
        "        rand_ind = np.random.randint(len(x_data),size=batch_size)\n",
        "        \n",
        "        feed = {xph:x_data[rand_ind],yph:y_true[rand_ind]}\n",
        "        \n",
        "        sess.run(train,feed_dict=feed)\n",
        "        \n",
        "    model_m,model_b = sess.run([m,b])"
      ],
      "execution_count": 0,
      "outputs": []
    },
    {
      "cell_type": "code",
      "metadata": {
        "id": "CLSMcBKfjNW7",
        "colab_type": "code",
        "colab": {
          "base_uri": "https://localhost:8080/",
          "height": 34
        },
        "outputId": "345aabf2-2811-4224-b065-7413e60714db"
      },
      "source": [
        "model_m"
      ],
      "execution_count": 35,
      "outputs": [
        {
          "output_type": "execute_result",
          "data": {
            "text/plain": [
              "0.49497643"
            ]
          },
          "metadata": {
            "tags": []
          },
          "execution_count": 35
        }
      ]
    },
    {
      "cell_type": "code",
      "metadata": {
        "id": "li1L0f2TjNW_",
        "colab_type": "code",
        "colab": {
          "base_uri": "https://localhost:8080/",
          "height": 34
        },
        "outputId": "8955cd85-d74a-4ee6-e96c-5048d8af728d"
      },
      "source": [
        "model_b"
      ],
      "execution_count": 36,
      "outputs": [
        {
          "output_type": "execute_result",
          "data": {
            "text/plain": [
              "4.8840876"
            ]
          },
          "metadata": {
            "tags": []
          },
          "execution_count": 36
        }
      ]
    },
    {
      "cell_type": "markdown",
      "metadata": {
        "id": "BQYlFi52jNXC",
        "colab_type": "text"
      },
      "source": [
        "### Results"
      ]
    },
    {
      "cell_type": "code",
      "metadata": {
        "id": "rMrd2mpajNXD",
        "colab_type": "code",
        "colab": {}
      },
      "source": [
        "y_hat = x_data * model_m + model_b"
      ],
      "execution_count": 0,
      "outputs": []
    },
    {
      "cell_type": "code",
      "metadata": {
        "id": "HKLhxJ8ljNXF",
        "colab_type": "code",
        "colab": {
          "base_uri": "https://localhost:8080/",
          "height": 296
        },
        "outputId": "78b7931f-ea04-4016-e2ef-cadf11e7a4cf"
      },
      "source": [
        "my_data.sample(n=250).plot(kind='scatter',x='X Data',y='Y')\n",
        "plt.plot(x_data,y_hat,'r')"
      ],
      "execution_count": 39,
      "outputs": [
        {
          "output_type": "execute_result",
          "data": {
            "text/plain": [
              "[<matplotlib.lines.Line2D at 0x7f9d37953860>]"
            ]
          },
          "metadata": {
            "tags": []
          },
          "execution_count": 39
        },
        {
          "output_type": "display_data",
          "data": {
            "image/png": "[encoded data removed]",
            "text/plain": [
              "<Figure size 432x288 with 1 Axes>"
            ]
          },
          "metadata": {
            "tags": []
          }
        }
      ]
    },
    {
      "cell_type": "markdown",
      "metadata": {
        "id": "H8n9KwrbjNXI",
        "colab_type": "text"
      },
      "source": [
        "## tf.estimator API\n",
        "\n",
        "Much simpler API for basic tasks like regression! We'll talk about more abstractions like TF-Slim later on."
      ]
    },
    {
      "cell_type": "code",
      "metadata": {
        "id": "--N8ngrIjNXJ",
        "colab_type": "code",
        "colab": {}
      },
      "source": [
        "feat_cols = [tf.feature_column.numeric_column('x',shape=[1])]"
      ],
      "execution_count": 0,
      "outputs": []
    },
    {
      "cell_type": "code",
      "metadata": {
        "id": "D3uCmh3vjNXL",
        "colab_type": "code",
        "colab": {}
      },
      "source": [
        "estimator = tf.estimator.LinearRegressor(feature_columns=feat_cols)"
      ],
      "execution_count": 0,
      "outputs": []
    },
    {
      "cell_type": "markdown",
      "metadata": {
        "id": "d3wlRogijNXP",
        "colab_type": "text"
      },
      "source": [
        "### Train Test Split\n",
        "\n",
        "We haven't actually performed a train test split yet! So let's do that on our data now and perform a more realistic version of a Regression Task"
      ]
    },
    {
      "cell_type": "code",
      "metadata": {
        "id": "__W1ZnsUjNXP",
        "colab_type": "code",
        "colab": {}
      },
      "source": [
        "from sklearn.model_selection import train_test_split"
      ],
      "execution_count": 0,
      "outputs": []
    },
    {
      "cell_type": "code",
      "metadata": {
        "id": "omYvsJCsjNXS",
        "colab_type": "code",
        "colab": {}
      },
      "source": [
        "x_train, x_eval, y_train, y_eval = train_test_split(x_data,y_true,test_size=0.3, random_state = 101)"
      ],
      "execution_count": 0,
      "outputs": []
    },
    {
      "cell_type": "code",
      "metadata": {
        "id": "mmHCSfKQjNXT",
        "colab_type": "code",
        "colab": {
          "base_uri": "https://localhost:8080/",
          "height": 85
        },
        "outputId": "dafcf44d-4a37-4bc6-9b74-14f74579b40b"
      },
      "source": [
        "print(x_train.shape)\n",
        "print(y_train.shape)\n",
        "\n",
        "print(x_eval.shape)\n",
        "print(y_eval.shape)"
      ],
      "execution_count": 44,
      "outputs": [
        {
          "output_type": "stream",
          "text": [
            "(700000,)\n",
            "(700000,)\n",
            "(300000,)\n",
            "(300000,)\n"
          ],
          "name": "stdout"
        }
      ]
    },
    {
      "cell_type": "markdown",
      "metadata": {
        "id": "iCjWXCF-jNXU",
        "colab_type": "text"
      },
      "source": [
        "### Set up Estimator Inputs"
      ]
    },
    {
      "cell_type": "code",
      "metadata": {
        "id": "onUMY9XfjNXV",
        "colab_type": "code",
        "colab": {}
      },
      "source": [
        "# Can also do .pandas_input_fn\n",
        "input_func = tf.estimator.inputs.numpy_input_fn({'x':x_train},y_train,batch_size=4,num_epochs=None,shuffle=True)"
      ],
      "execution_count": 0,
      "outputs": []
    },
    {
      "cell_type": "code",
      "metadata": {
        "id": "JPlMisNFjNXX",
        "colab_type": "code",
        "colab": {}
      },
      "source": [
        "train_input_func = tf.estimator.inputs.numpy_input_fn({'x':x_train},y_train,batch_size=4,num_epochs=1000,shuffle=False)"
      ],
      "execution_count": 0,
      "outputs": []
    },
    {
      "cell_type": "code",
      "metadata": {
        "id": "Z_zk5V7CjNXZ",
        "colab_type": "code",
        "colab": {}
      },
      "source": [
        "eval_input_func = tf.estimator.inputs.numpy_input_fn({'x':x_eval},y_eval,batch_size=4,num_epochs=1000,shuffle=False)"
      ],
      "execution_count": 0,
      "outputs": []
    },
    {
      "cell_type": "markdown",
      "metadata": {
        "id": "vhIwTXKNjNXb",
        "colab_type": "text"
      },
      "source": [
        "### Train the Estimator"
      ]
    },
    {
      "cell_type": "code",
      "metadata": {
        "id": "vMKLv7UFjNXc",
        "colab_type": "code",
        "colab": {}
      },
      "source": [
        "estimator.train(input_fn=input_func,steps=1000)"
      ],
      "execution_count": 0,
      "outputs": []
    },
    {
      "cell_type": "markdown",
      "metadata": {
        "id": "J1adSpp_jNXe",
        "colab_type": "text"
      },
      "source": [
        "### Evaluation"
      ]
    },
    {
      "cell_type": "code",
      "metadata": {
        "id": "tXU8RDwmjNXe",
        "colab_type": "code",
        "colab": {}
      },
      "source": [
        "train_metrics = estimator.evaluate(input_fn=train_input_func,steps=1000)"
      ],
      "execution_count": 0,
      "outputs": []
    },
    {
      "cell_type": "code",
      "metadata": {
        "id": "7BObMF4QjNXg",
        "colab_type": "code",
        "colab": {}
      },
      "source": [
        "eval_metrics = estimator.evaluate(input_fn=eval_input_func,steps=1000)"
      ],
      "execution_count": 0,
      "outputs": []
    },
    {
      "cell_type": "code",
      "metadata": {
        "id": "Zn8wKdObjNXi",
        "colab_type": "code",
        "colab": {}
      },
      "source": [
        "print(\"train metrics: {}\".format(train_metrics))\n",
        "print(\"eval metrics: {}\".format(eval_metrics))"
      ],
      "execution_count": 0,
      "outputs": []
    },
    {
      "cell_type": "markdown",
      "metadata": {
        "id": "aW7nrndQjNXj",
        "colab_type": "text"
      },
      "source": [
        "### Predictions"
      ]
    },
    {
      "cell_type": "code",
      "metadata": {
        "id": "fRi3QlT_jNXj",
        "colab_type": "code",
        "colab": {}
      },
      "source": [
        "input_fn_predict = tf.estimator.inputs.numpy_input_fn({'x':np.linspace(0,10,10)},shuffle=False)"
      ],
      "execution_count": 0,
      "outputs": []
    },
    {
      "cell_type": "code",
      "metadata": {
        "id": "h9oYbb-sjNXk",
        "colab_type": "code",
        "colab": {
          "base_uri": "https://localhost:8080/",
          "height": 289
        },
        "outputId": "430f1855-4b82-40c6-9887-b82eff508e31"
      },
      "source": [
        "list(estimator.predict(input_fn=input_fn_predict))"
      ],
      "execution_count": 54,
      "outputs": [
        {
          "output_type": "stream",
          "text": [
            "INFO:tensorflow:Calling model_fn.\n",
            "INFO:tensorflow:Done calling model_fn.\n",
            "INFO:tensorflow:Graph was finalized.\n",
            "INFO:tensorflow:Restoring parameters from /tmp/tmp9um2nzij/model.ckpt-1000\n",
            "INFO:tensorflow:Running local_init_op.\n",
            "INFO:tensorflow:Done running local_init_op.\n"
          ],
          "name": "stdout"
        },
        {
          "output_type": "execute_result",
          "data": {
            "text/plain": [
              "[{'predictions': array([4.2362704], dtype=float32)},\n",
              " {'predictions': array([4.931397], dtype=float32)},\n",
              " {'predictions': array([5.626524], dtype=float32)},\n",
              " {'predictions': array([6.3216505], dtype=float32)},\n",
              " {'predictions': array([7.016777], dtype=float32)},\n",
              " {'predictions': array([7.7119036], dtype=float32)},\n",
              " {'predictions': array([8.40703], dtype=float32)},\n",
              " {'predictions': array([9.102158], dtype=float32)},\n",
              " {'predictions': array([9.797284], dtype=float32)},\n",
              " {'predictions': array([10.492411], dtype=float32)}]"
            ]
          },
          "metadata": {
            "tags": []
          },
          "execution_count": 54
        }
      ]
    },
    {
      "cell_type": "code",
      "metadata": {
        "id": "eaZtxJImjNXm",
        "colab_type": "code",
        "colab": {
          "base_uri": "https://localhost:8080/",
          "height": 119
        },
        "outputId": "d1cdb855-7a39-4665-c8e4-cf3e85b0576b"
      },
      "source": [
        "predictions = []# np.array([])\n",
        "for x in estimator.predict(input_fn=input_fn_predict):\n",
        "    predictions.append(x['predictions'])"
      ],
      "execution_count": 55,
      "outputs": [
        {
          "output_type": "stream",
          "text": [
            "INFO:tensorflow:Calling model_fn.\n",
            "INFO:tensorflow:Done calling model_fn.\n",
            "INFO:tensorflow:Graph was finalized.\n",
            "INFO:tensorflow:Restoring parameters from /tmp/tmp9um2nzij/model.ckpt-1000\n",
            "INFO:tensorflow:Running local_init_op.\n",
            "INFO:tensorflow:Done running local_init_op.\n"
          ],
          "name": "stdout"
        }
      ]
    },
    {
      "cell_type": "code",
      "metadata": {
        "id": "RwkkUNhajNXo",
        "colab_type": "code",
        "colab": {
          "base_uri": "https://localhost:8080/",
          "height": 187
        },
        "outputId": "f40db96f-95fa-44d5-9ca0-53961ace1842"
      },
      "source": [
        "predictions"
      ],
      "execution_count": 56,
      "outputs": [
        {
          "output_type": "execute_result",
          "data": {
            "text/plain": [
              "[array([4.2362704], dtype=float32),\n",
              " array([4.931397], dtype=float32),\n",
              " array([5.626524], dtype=float32),\n",
              " array([6.3216505], dtype=float32),\n",
              " array([7.016777], dtype=float32),\n",
              " array([7.7119036], dtype=float32),\n",
              " array([8.40703], dtype=float32),\n",
              " array([9.102158], dtype=float32),\n",
              " array([9.797284], dtype=float32),\n",
              " array([10.492411], dtype=float32)]"
            ]
          },
          "metadata": {
            "tags": []
          },
          "execution_count": 56
        }
      ]
    },
    {
      "cell_type": "code",
      "metadata": {
        "id": "dXLSw2jnjNXp",
        "colab_type": "code",
        "colab": {
          "base_uri": "https://localhost:8080/",
          "height": 296
        },
        "outputId": "0a00a3f2-13fb-4189-fc3a-05ac69a69aec"
      },
      "source": [
        "my_data.sample(n=250).plot(kind='scatter',x='X Data',y='Y')\n",
        "plt.plot(np.linspace(0,10,10),predictions,'r')"
      ],
      "execution_count": 57,
      "outputs": [
        {
          "output_type": "execute_result",
          "data": {
            "text/plain": [
              "[<matplotlib.lines.Line2D at 0x7f9d31dcdba8>]"
            ]
          },
          "metadata": {
            "tags": []
          },
          "execution_count": 57
        },
        {
          "output_type": "display_data",
          "data": {
            "image/png": "[encoded data removed]",
            "text/plain": [
              "<Figure size 432x288 with 1 Axes>"
            ]
          },
          "metadata": {
            "tags": []
          }
        }
      ]
    }
  ]
}